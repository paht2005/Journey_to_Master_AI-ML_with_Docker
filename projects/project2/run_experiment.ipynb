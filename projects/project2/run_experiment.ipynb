{
  "cells": [
    {
      "cell_type": "markdown",
      "metadata": {
        "id": "Q9pOq1kt1Ecr"
      },
      "source": [
        "# **Project 2: Running ML Containers like JupyterLabs and MLFlow with Docker**\n",
        "\n",
        "**Full Name:** Nguyen Cong Phat\n",
        "\n",
        "**My Github:** [paht2005](https://github.com/paht2005)\n",
        "\n",
        "**My LinkedIn:** [ncphat25](https://www.linkedin.com/in/ncphat25/)\n",
        "\n",
        "\n",
        "\n",
        "![purple-divider](https://user-images.githubusercontent.com/7065401/52071927-c1cd7100-2562-11e9-908a-dde91ba14e59.png)\n"
      ]
    },
    {
      "cell_type": "code",
      "execution_count": null,
      "metadata": {},
      "outputs": [],
      "source": [
        "import mlflow\n",
        "from mlflow.models import infer_signature\n",
        "from sklearn.linear_model import LinearRegression\n",
        "from sklearn.datasets import make_regression\n",
        "from sklearn.metrics import mean_squared_error\n",
        "\n",
        "# 1. Set tracking URI to local MLflow server\n",
        "mlflow.set_tracking_uri(\"http://host.docker.internal:5555\")\n",
        "print(\"📡 Tracking to:\", mlflow.get_tracking_uri())\n",
        "\n",
        "# 2. Set experiment name (create if not exists)\n",
        "mlflow.set_experiment(\"simple-linear-demo\")\n",
        "\n",
        "# 3. Create and log a run\n",
        "with mlflow.start_run():\n",
        "    # Generate toy regression data\n",
        "    X, y = make_regression(n_samples=100, n_features=1, noise=10, random_state=42)\n",
        "\n",
        "    # Train model\n",
        "    model = LinearRegression()\n",
        "    model.fit(X, y)\n",
        "\n",
        "    # Predict and evaluate\n",
        "    y_pred = model.predict(X)\n",
        "    mse = mean_squared_error(y, y_pred)\n",
        "\n",
        "    # Infer model signature and input example\n",
        "    signature = infer_signature(X, y_pred)\n",
        "    input_example = X[:5]  # A small batch as sample input\n",
        "\n",
        "    # Log parameters and metrics\n",
        "    mlflow.log_param(\"model_type\", \"LinearRegression\")\n",
        "    mlflow.log_metric(\"mse\", mse)\n",
        "\n",
        "    # Log model with signature and example\n",
        "    mlflow.sklearn.log_model(\n",
        "        model,\n",
        "        artifact_path=\"model\",\n",
        "        signature=signature,\n",
        "        input_example=input_example\n",
        "    )\n",
        "\n",
        "    print(f\"✅ Run logged with MSE: {mse:.2f}\")"
      ]
    }
  ],
  "metadata": {
    "colab": {
      "provenance": [],
      "toc_visible": true
    },
    "kernelspec": {
      "display_name": "Python 3",
      "name": "python3"
    },
    "language_info": {
      "codemirror_mode": {
        "name": "ipython",
        "version": 3
      },
      "file_extension": ".py",
      "mimetype": "text/x-python",
      "name": "python",
      "nbconvert_exporter": "python",
      "pygments_lexer": "ipython3",
      "version": "3.11.8"
    }
  },
  "nbformat": 4,
  "nbformat_minor": 0
}
