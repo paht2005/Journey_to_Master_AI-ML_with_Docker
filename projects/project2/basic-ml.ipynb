{
  "cells": [
    {
      "cell_type": "markdown",
      "metadata": {
        "id": "Q9pOq1kt1Ecr"
      },
      "source": [
        "# **Project 2: Running ML Containers like JupyterLabs and MLFlow with Docker**\n",
        "\n",
        "**Full Name:** Nguyen Cong Phat\n",
        "\n",
        "**My Github:** [paht2005](https://github.com/paht2005)\n",
        "\n",
        "**My LinkedIn:** [ncphat25](https://www.linkedin.com/in/ncphat25/)\n",
        "\n",
        "\n",
        "\n",
        "![purple-divider](https://user-images.githubusercontent.com/7065401/52071927-c1cd7100-2562-11e9-908a-dde91ba14e59.png)\n"
      ]
    },
    {
      "cell_type": "code",
      "execution_count": null,
      "metadata": {},
      "outputs": [],
      "source": [
        "import pandas as pd\n",
        "import numpy as np\n",
        "import matplotlib.pyplot as plt\n",
        "import seaborn as sns\n",
        "from sklearn.datasets import load_iris\n",
        "from sklearn.linear_model import LogisticRegression\n",
        "from sklearn.metrics import accuracy_score, confusion_matrix, classification_report, r2_score, mean_squared_error"
      ]
    },
    {
      "cell_type": "code",
      "execution_count": null,
      "metadata": {},
      "outputs": [],
      "source": [
        "# Step 0 / Cell 0\n",
        "import pandas as pd\n",
        "import numpy as np\n",
        "import matplotlib.pyplot as plt\n",
        "import seaborn as sns\n",
        "from sklearn.datasets import load_iris\n",
        "from sklearn.linear_model import LogisticRegression\n",
        "from sklearn.metrics import accuracy_score, confusion_matrix, classification_report, r2_score, mean_squared_error\n",
        "\n",
        "# Step 1: Load the Iris dataset\n",
        "print(\"📥 Loading the Iris dataset...\")\n",
        "data = load_iris()\n",
        "\n",
        "# Step 2: Explore the dataset structure\n",
        "print(\"\\n📝 Feature names:\", data.feature_names)\n",
        "print(\"🎯 Target classes:\", data.target_names)\n",
        "print(\"📐 Data shape:\", data.data.shape)\n",
        "\n",
        "# Step 3: Create a DataFrame for exploration\n",
        "df = pd.DataFrame(data.data, columns=data.feature_names)\n",
        "df['target'] = data.target\n",
        "print(\"\\n🔍 First 5 rows of the dataset:\")\n",
        "print(df.head())\n",
        "\n",
        "# Step 4: Define features (X) and target (y)\n",
        "X = df[data.feature_names]\n",
        "y = df['target']\n",
        "\n",
        "# Step 5: Train a Logistic Regression model\n",
        "print(\"\\n⚙️ Training Logistic Regression model...\")\n",
        "model = LogisticRegression(max_iter=200)\n",
        "model.fit(X, y)\n",
        "\n",
        "# Step 6: Make predictions\n",
        "y_pred = model.predict(X)\n",
        "\n",
        "# Step 7: Evaluate the model\n",
        "accuracy = accuracy_score(y, y_pred)\n",
        "print(f\"\\n📊 Accuracy Score: {accuracy:.2f}\")\n",
        "\n",
        "print(\"\\n📋 Classification Report:\")\n",
        "print(classification_report(y, y_pred, target_names=data.target_names))\n",
        "\n",
        "# Step 8 : Confusion Matrix Plot\n",
        "cm = confusion_matrix(y, y_pred)\n",
        "plt.figure(figsize=(6, 4))\n",
        "sns.heatmap(cm, annot=True, fmt='d', cmap='Blues',\n",
        "            xticklabels=data.target_names,\n",
        "            yticklabels=data.target_names)\n",
        "plt.xlabel(\"Predicted\")\n",
        "plt.ylabel(\"Actual\")\n",
        "plt.title(\"🔍 Confusion Matrix\")\n",
        "plt.show()"
      ]
    }
  ],
  "metadata": {
    "colab": {
      "provenance": [],
      "toc_visible": true
    },
    "kernelspec": {
      "display_name": "Python 3",
      "name": "python3"
    },
    "language_info": {
      "codemirror_mode": {
        "name": "ipython",
        "version": 3
      },
      "file_extension": ".py",
      "mimetype": "text/x-python",
      "name": "python",
      "nbconvert_exporter": "python",
      "pygments_lexer": "ipython3",
      "version": "3.11.8"
    }
  },
  "nbformat": 4,
  "nbformat_minor": 0
}
